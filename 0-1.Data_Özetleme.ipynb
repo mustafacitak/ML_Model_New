{
 "cells": [
  {
   "cell_type": "code",
   "execution_count": 47,
   "id": "43a973dd",
   "metadata": {},
   "outputs": [],
   "source": [
    "import pandas as pd\n",
    "import numpy as np"
   ]
  },
  {
   "cell_type": "code",
   "execution_count": 49,
   "id": "760de164",
   "metadata": {},
   "outputs": [
    {
     "data": {
      "text/plain": [
       "Id               0\n",
       "SepalLengthCm    0\n",
       "SepalWidthCm     0\n",
       "PetalLengthCm    0\n",
       "PetalWidthCm     0\n",
       "Species          0\n",
       "dtype: int64"
      ]
     },
     "execution_count": 49,
     "metadata": {},
     "output_type": "execute_result"
    }
   ],
   "source": [
    "# Veri setini \"Iris.csv\" dosyasından oku ve 'data' adında bir DataFrame'e yükle.\n",
    "data = pd.read_csv(\"/Users/mustafacitak/Desktop/Python/ML/ML_Calisma/Iris.csv\")\n",
    "\n",
    "# Yüklenen veri setini görüntüle.\n",
    "data\n",
    "\n",
    "# Veri setinin ilk 5 satırını görüntüle.\n",
    "data.head()\n",
    "\n",
    "# Veri setinin son 5 satırını görüntüle.\n",
    "data.tail()\n",
    "\n",
    "# Veri setindeki toplam satır sayısını hesapla ve görüntüle.\n",
    "len(data)\n",
    "\n",
    "# Veri setindeki sütun adlarını görüntüle.\n",
    "data.columns\n",
    "\n",
    "# Veri setindeki sütunların veri tiplerini görüntüle.\n",
    "data.dtypes\n",
    "\n",
    "# Veri setindeki sayısal sütunlar için temel istatistiksel bilgileri görüntüle (count, mean, std, min, 25%, 50%, 75%, max).\n",
    "data.describe()\n",
    "\n",
    "# Her hücredeki değerin boş olup olmadığını kontrol etmek için bir boolean DataFrame oluştur.\n",
    "data.isnull()\n",
    "\n",
    "# Her sütundaki boş değerlerin toplam sayısını hesapla.\n",
    "data.isnull().sum()\n",
    "\n",
    "# Her sütundaki eksik değerlerin (NaN) toplam sayısını hesapla.\n",
    "data.isna().sum()"
   ]
  },
  {
   "cell_type": "code",
   "execution_count": null,
   "id": "2c5dd660-d8e9-40e9-a7f1-7e235bf1b295",
   "metadata": {},
   "outputs": [],
   "source": []
  }
 ],
 "metadata": {
  "kernelspec": {
   "display_name": "Python 3 (ipykernel)",
   "language": "python",
   "name": "python3"
  },
  "language_info": {
   "codemirror_mode": {
    "name": "ipython",
    "version": 3
   },
   "file_extension": ".py",
   "mimetype": "text/x-python",
   "name": "python",
   "nbconvert_exporter": "python",
   "pygments_lexer": "ipython3",
   "version": "3.11.5"
  }
 },
 "nbformat": 4,
 "nbformat_minor": 5
}
