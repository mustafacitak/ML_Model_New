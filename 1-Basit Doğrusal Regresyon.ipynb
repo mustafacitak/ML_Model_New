{
 "cells": [
  {
   "cell_type": "code",
   "execution_count": 1,
   "id": "f7c4b1a5",
   "metadata": {
    "ExecuteTime": {
     "end_time": "2024-03-15T22:17:23.064402Z",
     "start_time": "2024-03-15T22:17:22.058055Z"
    }
   },
   "outputs": [],
   "source": [
    "import pandas as pd\n",
    "import numpy as np\n",
    "import matplotlib.pyplot as plt\n",
    "from sklearn.model_selection import train_test_split\n",
    "from sklearn.linear_model import LinearRegression\n",
    "from sklearn.metrics import r2_score "
   ]
  },
  {
   "cell_type": "code",
   "execution_count": 2,
   "id": "006e24b4",
   "metadata": {
    "ExecuteTime": {
     "end_time": "2024-03-15T22:17:23.068329Z",
     "start_time": "2024-03-15T22:17:23.065315Z"
    }
   },
   "outputs": [],
   "source": [
    "data = {'revenue': [6000, 9000, 12000, 15000, 18000, 4500, 7500, 12000, 9000, 16500, 10500, 18000, 6000, 13500, 12000, 19500, 7500, 15000, 9000, 16500, 4500, 12000, 10500, 18000, 6000, 13500, 7500, 15000, 9000, 16500],\n",
    "        'investment': [2000, 3000, 4000, 5000, 6000, 1500, 2500, 4000, 3000, 5500, 3500, 6000, 2000, 4500, 4000, 6500, 2500, 5000, 3000, 5500, 1500, 4000, 3500, 6000, 2000, 4500, 2500, 5000, 3000, 5500]}\n",
    "\n",
    "df = pd.DataFrame(data)\n",
    "\n",
    "X = df[['revenue']]\n",
    "y = df['investment']"
   ]
  },
  {
   "cell_type": "code",
   "execution_count": 3,
   "id": "c132ca0b5ef2fb51",
   "metadata": {
    "ExecuteTime": {
     "end_time": "2024-03-15T22:18:10.166370Z",
     "start_time": "2024-03-15T22:18:10.160312Z"
    },
    "collapsed": false,
    "jupyter": {
     "outputs_hidden": false
    }
   },
   "outputs": [
    {
     "name": "stdout",
     "output_type": "stream",
     "text": [
      "<class 'pandas.core.frame.DataFrame'>\n",
      "RangeIndex: 30 entries, 0 to 29\n",
      "Data columns (total 2 columns):\n",
      " #   Column      Non-Null Count  Dtype\n",
      "---  ------      --------------  -----\n",
      " 0   revenue     30 non-null     int64\n",
      " 1   investment  30 non-null     int64\n",
      "dtypes: int64(2)\n",
      "memory usage: 612.0 bytes\n"
     ]
    }
   ],
   "source": [
    "df.info()"
   ]
  },
  {
   "cell_type": "code",
   "execution_count": 4,
   "id": "bb78f80a",
   "metadata": {
    "ExecuteTime": {
     "end_time": "2024-03-15T22:17:23.072608Z",
     "start_time": "2024-03-15T22:17:23.068995Z"
    }
   },
   "outputs": [],
   "source": [
    "X_train, X_test, y_train, y_test = train_test_split(X, y, test_size=0.3, random_state=42) # %80 eğit  %20 tahmin et"
   ]
  },
  {
   "cell_type": "code",
   "execution_count": 5,
   "id": "d3be86d9",
   "metadata": {
    "ExecuteTime": {
     "end_time": "2024-03-15T22:17:23.313483Z",
     "start_time": "2024-03-15T22:17:23.306871Z"
    }
   },
   "outputs": [
    {
     "data": {
      "text/html": [
       "<style>#sk-container-id-1 {color: black;background-color: white;}#sk-container-id-1 pre{padding: 0;}#sk-container-id-1 div.sk-toggleable {background-color: white;}#sk-container-id-1 label.sk-toggleable__label {cursor: pointer;display: block;width: 100%;margin-bottom: 0;padding: 0.3em;box-sizing: border-box;text-align: center;}#sk-container-id-1 label.sk-toggleable__label-arrow:before {content: \"▸\";float: left;margin-right: 0.25em;color: #696969;}#sk-container-id-1 label.sk-toggleable__label-arrow:hover:before {color: black;}#sk-container-id-1 div.sk-estimator:hover label.sk-toggleable__label-arrow:before {color: black;}#sk-container-id-1 div.sk-toggleable__content {max-height: 0;max-width: 0;overflow: hidden;text-align: left;background-color: #f0f8ff;}#sk-container-id-1 div.sk-toggleable__content pre {margin: 0.2em;color: black;border-radius: 0.25em;background-color: #f0f8ff;}#sk-container-id-1 input.sk-toggleable__control:checked~div.sk-toggleable__content {max-height: 200px;max-width: 100%;overflow: auto;}#sk-container-id-1 input.sk-toggleable__control:checked~label.sk-toggleable__label-arrow:before {content: \"▾\";}#sk-container-id-1 div.sk-estimator input.sk-toggleable__control:checked~label.sk-toggleable__label {background-color: #d4ebff;}#sk-container-id-1 div.sk-label input.sk-toggleable__control:checked~label.sk-toggleable__label {background-color: #d4ebff;}#sk-container-id-1 input.sk-hidden--visually {border: 0;clip: rect(1px 1px 1px 1px);clip: rect(1px, 1px, 1px, 1px);height: 1px;margin: -1px;overflow: hidden;padding: 0;position: absolute;width: 1px;}#sk-container-id-1 div.sk-estimator {font-family: monospace;background-color: #f0f8ff;border: 1px dotted black;border-radius: 0.25em;box-sizing: border-box;margin-bottom: 0.5em;}#sk-container-id-1 div.sk-estimator:hover {background-color: #d4ebff;}#sk-container-id-1 div.sk-parallel-item::after {content: \"\";width: 100%;border-bottom: 1px solid gray;flex-grow: 1;}#sk-container-id-1 div.sk-label:hover label.sk-toggleable__label {background-color: #d4ebff;}#sk-container-id-1 div.sk-serial::before {content: \"\";position: absolute;border-left: 1px solid gray;box-sizing: border-box;top: 0;bottom: 0;left: 50%;z-index: 0;}#sk-container-id-1 div.sk-serial {display: flex;flex-direction: column;align-items: center;background-color: white;padding-right: 0.2em;padding-left: 0.2em;position: relative;}#sk-container-id-1 div.sk-item {position: relative;z-index: 1;}#sk-container-id-1 div.sk-parallel {display: flex;align-items: stretch;justify-content: center;background-color: white;position: relative;}#sk-container-id-1 div.sk-item::before, #sk-container-id-1 div.sk-parallel-item::before {content: \"\";position: absolute;border-left: 1px solid gray;box-sizing: border-box;top: 0;bottom: 0;left: 50%;z-index: -1;}#sk-container-id-1 div.sk-parallel-item {display: flex;flex-direction: column;z-index: 1;position: relative;background-color: white;}#sk-container-id-1 div.sk-parallel-item:first-child::after {align-self: flex-end;width: 50%;}#sk-container-id-1 div.sk-parallel-item:last-child::after {align-self: flex-start;width: 50%;}#sk-container-id-1 div.sk-parallel-item:only-child::after {width: 0;}#sk-container-id-1 div.sk-dashed-wrapped {border: 1px dashed gray;margin: 0 0.4em 0.5em 0.4em;box-sizing: border-box;padding-bottom: 0.4em;background-color: white;}#sk-container-id-1 div.sk-label label {font-family: monospace;font-weight: bold;display: inline-block;line-height: 1.2em;}#sk-container-id-1 div.sk-label-container {text-align: center;}#sk-container-id-1 div.sk-container {/* jupyter's `normalize.less` sets `[hidden] { display: none; }` but bootstrap.min.css set `[hidden] { display: none !important; }` so we also need the `!important` here to be able to override the default hidden behavior on the sphinx rendered scikit-learn.org. See: https://github.com/scikit-learn/scikit-learn/issues/21755 */display: inline-block !important;position: relative;}#sk-container-id-1 div.sk-text-repr-fallback {display: none;}</style><div id=\"sk-container-id-1\" class=\"sk-top-container\"><div class=\"sk-text-repr-fallback\"><pre>LinearRegression()</pre><b>In a Jupyter environment, please rerun this cell to show the HTML representation or trust the notebook. <br />On GitHub, the HTML representation is unable to render, please try loading this page with nbviewer.org.</b></div><div class=\"sk-container\" hidden><div class=\"sk-item\"><div class=\"sk-estimator sk-toggleable\"><input class=\"sk-toggleable__control sk-hidden--visually\" id=\"sk-estimator-id-1\" type=\"checkbox\" checked><label for=\"sk-estimator-id-1\" class=\"sk-toggleable__label sk-toggleable__label-arrow\">LinearRegression</label><div class=\"sk-toggleable__content\"><pre>LinearRegression()</pre></div></div></div></div></div>"
      ],
      "text/plain": [
       "LinearRegression()"
      ]
     },
     "execution_count": 5,
     "metadata": {},
     "output_type": "execute_result"
    }
   ],
   "source": [
    "model = LinearRegression()\n",
    "model.fit(X_train, y_train)"
   ]
  },
  {
   "cell_type": "code",
   "execution_count": 6,
   "id": "61fc4af4",
   "metadata": {
    "ExecuteTime": {
     "end_time": "2024-03-15T22:17:24.204624Z",
     "start_time": "2024-03-15T22:17:24.199392Z"
    }
   },
   "outputs": [
    {
     "name": "stdout",
     "output_type": "stream",
     "text": [
      "Investment Prediction for Revenue = 4000:  [3333.33333333]\n",
      "R2 Score:  1.0\n"
     ]
    },
    {
     "name": "stderr",
     "output_type": "stream",
     "text": [
      "/opt/anaconda3/lib/python3.11/site-packages/sklearn/base.py:450: UserWarning: X does not have valid feature names, but LinearRegression was fitted with feature names\n",
      "  warnings.warn(\n"
     ]
    }
   ],
   "source": [
    "yatirim_tutari = model.predict([[10000]])\n",
    "print(\"Investment Prediction for Revenue = 4000: \", yatirim_tutari)\n",
    "y_pred = model.predict(X_test)\n",
    "\n",
    "r2 = r2_score(y_test, y_pred)\n",
    "print(\"R2 Score: \", r2)"
   ]
  },
  {
   "cell_type": "code",
   "execution_count": 7,
   "id": "5c625fdc",
   "metadata": {
    "ExecuteTime": {
     "end_time": "2024-03-15T22:17:24.794692Z",
     "start_time": "2024-03-15T22:17:24.792884Z"
    }
   },
   "outputs": [],
   "source": [
    "#Modelin ana kütleye genelleştirebilir miyiz? "
   ]
  },
  {
   "cell_type": "code",
   "execution_count": 8,
   "id": "416b9f43",
   "metadata": {
    "ExecuteTime": {
     "end_time": "2024-03-15T22:17:32.380440Z",
     "start_time": "2024-03-15T22:17:32.368713Z"
    }
   },
   "outputs": [
    {
     "name": "stdout",
     "output_type": "stream",
     "text": [
      "SSE (Sum of Squares due to Error):  9.926167350636332e-24\n",
      "R-squared Score:  1.0\n",
      "Model genelleştirilebilir.\n"
     ]
    }
   ],
   "source": [
    "import pandas as pd\n",
    "import numpy as np\n",
    "import matplotlib.pyplot as plt\n",
    "from sklearn.model_selection import train_test_split\n",
    "from sklearn.linear_model import LinearRegression\n",
    "from sklearn.metrics import mean_squared_error, r2_score\n",
    "\n",
    "data = {'revenue': [6000, 9000, 12000, 15000, 18000, 4500, 7500, 12000, 9000, 16500, 10500, 18000, 6000, 13500, 12000, 19500, 7500, 15000, 9000, 16500, 4500, 12000, 10500, 18000, 6000, 13500, 7500, 15000, 9000, 16500],\n",
    "        'investment': [2000, 3000, 4000, 5000, 6000, 1500, 2500, 4000, 3000, 5500, 3500, 6000, 2000, 4500, 4000, 6500, 2500, 5000, 3000, 5500, 1500, 4000, 3500, 6000, 2000, 4500, 2500, 5000, 3000, 5500]}\n",
    "\n",
    "df = pd.DataFrame(data)\n",
    "\n",
    "X = df[['revenue']]\n",
    "y = df['investment']\n",
    "\n",
    "X_train, X_test, y_train, y_test = train_test_split(X, y, test_size=0.7, random_state=42) # %80 eğit  %20 tahmin et\n",
    "\n",
    "model = LinearRegression()\n",
    "model.fit(X_train, y_train)\n",
    "\n",
    "# Modelin genelleştirilip genelleştirilemeyeceğini değerlendirme\n",
    "y_pred = model.predict(X_test)\n",
    "SSE = mean_squared_error(y_test, y_pred) * len(y_test)  # SSE hesaplanması\n",
    "SST = np.sum((y_test - np.mean(y_test))**2)            # SST hesaplanması\n",
    "R_squared = 1 - (SSE / SST)                             # R-kare hesaplanması\n",
    "\n",
    "print(\"SSE (Sum of Squares due to Error): \", SSE)\n",
    "print(\"R-squared Score: \", R_squared)\n",
    "\n",
    "# SSE'nin oranını kontrol etme\n",
    "if SSE / SST < 0.1:  # Örnek olarak, SSE'nin SST'nin %10'undan daha az olması durumunda genelleştirilebilir\n",
    "    print(\"Model genelleştirilebilir.\")\n",
    "else:\n",
    "    print(\"Model genelleştirilemez.\")\n"
   ]
  }
 ],
 "metadata": {
  "kernelspec": {
   "display_name": "Python 3 (ipykernel)",
   "language": "python",
   "name": "python3"
  },
  "language_info": {
   "codemirror_mode": {
    "name": "ipython",
    "version": 3
   },
   "file_extension": ".py",
   "mimetype": "text/x-python",
   "name": "python",
   "nbconvert_exporter": "python",
   "pygments_lexer": "ipython3",
   "version": "3.11.5"
  }
 },
 "nbformat": 4,
 "nbformat_minor": 5
}
