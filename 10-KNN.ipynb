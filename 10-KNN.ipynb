{
 "cells": [
  {
   "cell_type": "code",
   "execution_count": 1,
   "id": "e879bc32",
   "metadata": {},
   "outputs": [
    {
     "name": "stdout",
     "output_type": "stream",
     "text": [
      "   sepal length (cm)  sepal width (cm)  petal length (cm)  petal width (cm)\n",
      "0                5.1               3.5                1.4               0.2\n",
      "1                4.9               3.0                1.4               0.2\n",
      "2                4.7               3.2                1.3               0.2\n",
      "3                4.6               3.1                1.5               0.2\n",
      "4                5.0               3.6                1.4               0.2\n",
      "5                5.4               3.9                1.7               0.4\n",
      "6                4.6               3.4                1.4               0.3\n",
      "7                5.0               3.4                1.5               0.2\n",
      "8                4.4               2.9                1.4               0.2\n",
      "9                4.9               3.1                1.5               0.1\n",
      "\n",
      "\n",
      "Model Accuracy: 100.0%\n",
      "\n",
      "\n",
      "Predicted Class: setosa\n"
     ]
    }
   ],
   "source": [
    "from sklearn.datasets import load_iris\n",
    "from sklearn.model_selection import train_test_split\n",
    "from sklearn.neighbors import KNeighborsClassifier\n",
    "from sklearn.metrics import accuracy_score\n",
    "import pandas as pd\n",
    "import numpy as np\n",
    "\n",
    "# Iris veri setini yükle\n",
    "iris = load_iris()\n",
    "df = pd.DataFrame(data=iris.data, columns=iris.feature_names)\n",
    "\n",
    "# Veri setinin ilk 10 satırını ve sütun isimlerini yazdır\n",
    "print(df.head(10))\n",
    "print(\"\\n\")\n",
    "\n",
    "# Veri setini eğitim ve test setlerine ayır\n",
    "X_train, X_test, y_train, y_test = train_test_split(iris.data, iris.target, test_size=0.2, random_state=42)\n",
    "\n",
    "\n",
    "# K-NN modelini oluştur ve eğit\n",
    "model = KNeighborsClassifier(n_neighbors=2)\n",
    "model.fit(X_train, y_train)\n",
    "\n",
    "# Modeli test et ve performansını değerlendir\n",
    "y_pred = model.predict(X_test)\n",
    "accuracy = accuracy_score(y_test, y_pred)\n",
    "print(f'Model Accuracy: {accuracy * 100}%')\n",
    "print(\"\\n\")\n",
    "\n",
    "# \"Sepallength: 5.0 cm, Sepalwidth: 3.5 cm, Petallength: 1.5 cm, Petalwidth: 0.2 cm\" değerlerini bir NumPy dizisi olarak tanımla\n",
    "\n",
    "new_flower = np.array([[5.0, 3.5, 1.5, 0.2]])\n",
    "\n",
    "# Tahmin yap\n",
    "predicted_class = model.predict(new_flower)\n",
    "\n",
    "# Tahmin edilen sınıf etiketini sınıf adına dönüştür\n",
    "predicted_class_name = iris.target_names[predicted_class[0]]\n",
    "\n",
    "# Sonucu yazdır\n",
    "print(f'Predicted Class: {predicted_class_name}')"
   ]
  }
 ],
 "metadata": {
  "kernelspec": {
   "display_name": "Python 3 (ipykernel)",
   "language": "python",
   "name": "python3"
  },
  "language_info": {
   "codemirror_mode": {
    "name": "ipython",
    "version": 3
   },
   "file_extension": ".py",
   "mimetype": "text/x-python",
   "name": "python",
   "nbconvert_exporter": "python",
   "pygments_lexer": "ipython3",
   "version": "3.11.5"
  }
 },
 "nbformat": 4,
 "nbformat_minor": 5
}
