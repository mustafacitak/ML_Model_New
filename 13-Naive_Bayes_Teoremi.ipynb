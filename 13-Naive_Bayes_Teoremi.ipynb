{
 "cells": [
  {
   "cell_type": "code",
   "execution_count": 3,
   "id": "c3ca6892",
   "metadata": {},
   "outputs": [
    {
     "name": "stdout",
     "output_type": "stream",
     "text": [
      "Hastanın test sonucu pozitif çıktığında hasta olma olasılığı: 77.23577235772359%\n"
     ]
    }
   ],
   "source": [
    "# Verilen olasılıklar\n",
    "P_A_Hasta = 0.20  # P(A=Hasta)\n",
    "P_A_Saglikli = 0.80  # P(A=Saglikli)\n",
    "P_B_Positif_A_Hasta = 0.95  # P(B=Positif|A=Hasta)\n",
    "P_B_Negatif_A_Saglikli = 0.93  # P(B=Negatif|A=Saglikli)\n",
    "\n",
    "# Test sonucu pozitif çıkma olasılığı\n",
    "P_B_Positif = P_B_Positif_A_Hasta * P_A_Hasta + (1 - P_B_Negatif_A_Saglikli) * P_A_Saglikli\n",
    "\n",
    "# Hastanın hasta olma olasılığı\n",
    "P_A_Hasta_B_Positif = P_B_Positif_A_Hasta * P_A_Hasta / P_B_Positif\n",
    "\n",
    "print(f\"Hastanın test sonucu pozitif çıktığında hasta olma olasılığı: {P_A_Hasta_B_Positif * 100}%\")"
   ]
  }
 ],
 "metadata": {
  "kernelspec": {
   "display_name": "Python 3 (ipykernel)",
   "language": "python",
   "name": "python3"
  },
  "language_info": {
   "codemirror_mode": {
    "name": "ipython",
    "version": 3
   },
   "file_extension": ".py",
   "mimetype": "text/x-python",
   "name": "python",
   "nbconvert_exporter": "python",
   "pygments_lexer": "ipython3",
   "version": "3.11.5"
  }
 },
 "nbformat": 4,
 "nbformat_minor": 5
}
