{
 "cells": [
  {
   "cell_type": "code",
   "execution_count": 6,
   "id": "efd503be-54a4-4e67-82c9-07995e7bd6e6",
   "metadata": {},
   "outputs": [],
   "source": [
    "#Gerekli kütüphaneleri import et\n",
    "import pandas as pd\n",
    "import numpy as np\n",
    "import matplotlib.pyplot as plt\n",
    "from sklearn.model_selection import train_test_split\n",
    "from sklearn.linear_model import LinearRegression\n",
    "from sklearn.metrics import mean_squared_error"
   ]
  },
  {
   "cell_type": "code",
   "execution_count": 7,
   "id": "b4330c49-9ba8-437b-9958-37bf725c7ff6",
   "metadata": {},
   "outputs": [
    {
     "name": "stdout",
     "output_type": "stream",
     "text": [
      "longitude               0\n",
      "latitude                0\n",
      "housing_median_age      0\n",
      "total_rooms             0\n",
      "total_bedrooms        207\n",
      "population              0\n",
      "households              0\n",
      "median_income           0\n",
      "median_house_value      0\n",
      "ocean_proximity         0\n",
      "dtype: int64\n",
      "\n",
      "\n",
      "longitude             0\n",
      "latitude              0\n",
      "housing_median_age    0\n",
      "total_rooms           0\n",
      "total_bedrooms        0\n",
      "population            0\n",
      "households            0\n",
      "median_income         0\n",
      "median_house_value    0\n",
      "ocean_proximity       0\n",
      "dtype: int64\n",
      "\n",
      "\n"
     ]
    }
   ],
   "source": [
    "#Veriyi csv formatında import et\n",
    "\n",
    "data_path = \"/Users/mustafacitak/Desktop/Python/ML/ML_Calisma/housing.csv\"\n",
    "\n",
    "housing_data = pd.read_csv(data_path, na_values=['?'])\n",
    "\n",
    "print(housing_data.isna().sum())\n",
    "\n",
    "print(\"\\n\")\n",
    "\n",
    "housing_data.dropna(inplace=True)\n",
    "\n",
    "print(housing_data.isna().sum())\n",
    "\n",
    "print(\"\\n\")\n"
   ]
  },
  {
   "cell_type": "code",
   "execution_count": 8,
   "id": "1d52facf-ef90-42ee-bfa9-0c460485fd8c",
   "metadata": {},
   "outputs": [
    {
     "name": "stdout",
     "output_type": "stream",
     "text": [
      "X Deişkenleri: \n",
      "        housing_median_age  total_rooms  total_bedrooms  population  \\\n",
      "0                    41.0        880.0           129.0       322.0   \n",
      "1                    21.0       7099.0          1106.0      2401.0   \n",
      "2                    52.0       1467.0           190.0       496.0   \n",
      "3                    52.0       1274.0           235.0       558.0   \n",
      "4                    52.0       1627.0           280.0       565.0   \n",
      "...                   ...          ...             ...         ...   \n",
      "20635                25.0       1665.0           374.0       845.0   \n",
      "20636                18.0        697.0           150.0       356.0   \n",
      "20637                17.0       2254.0           485.0      1007.0   \n",
      "20638                18.0       1860.0           409.0       741.0   \n",
      "20639                16.0       2785.0           616.0      1387.0   \n",
      "\n",
      "       households  median_income  \n",
      "0           126.0         8.3252  \n",
      "1          1138.0         8.3014  \n",
      "2           177.0         7.2574  \n",
      "3           219.0         5.6431  \n",
      "4           259.0         3.8462  \n",
      "...           ...            ...  \n",
      "20635       330.0         1.5603  \n",
      "20636       114.0         2.5568  \n",
      "20637       433.0         1.7000  \n",
      "20638       349.0         1.8672  \n",
      "20639       530.0         2.3886  \n",
      "\n",
      "[20433 rows x 6 columns]\n",
      "\n",
      "\n",
      "Y Hedef Değişkeni: \n",
      " 0        452600.0\n",
      "1        358500.0\n",
      "2        352100.0\n",
      "3        341300.0\n",
      "4        342200.0\n",
      "           ...   \n",
      "20635     78100.0\n",
      "20636     77100.0\n",
      "20637     92300.0\n",
      "20638     84700.0\n",
      "20639     89400.0\n",
      "Name: median_house_value, Length: 20433, dtype: float64\n",
      "\n",
      "\n"
     ]
    }
   ],
   "source": [
    "# \"longitude\", \"latitude\", \"ocean_proximity\" değişkenlerini veriden çıkar\n",
    "features = [\"housing_median_age\", \"total_rooms\", \"total_bedrooms\", \"population\", \"households\", \"median_income\"]\n",
    "\n",
    "X = housing_data[features]\n",
    "\n",
    "print(\"X Deişkenleri:\",\"\\n\", X)\n",
    "\n",
    "print(\"\\n\")\n",
    "\n",
    "y = housing_data[\"median_house_value\"]\n",
    "\n",
    "print(\"Y Hedef Değişkeni:\", \"\\n\", y)\n",
    "\n",
    "print(\"\\n\")"
   ]
  },
  {
   "cell_type": "code",
   "execution_count": 9,
   "id": "c98ceb69-62c7-4813-86c4-2a5a968632d3",
   "metadata": {},
   "outputs": [
    {
     "data": {
      "text/html": [
       "<style>#sk-container-id-2 {color: black;background-color: white;}#sk-container-id-2 pre{padding: 0;}#sk-container-id-2 div.sk-toggleable {background-color: white;}#sk-container-id-2 label.sk-toggleable__label {cursor: pointer;display: block;width: 100%;margin-bottom: 0;padding: 0.3em;box-sizing: border-box;text-align: center;}#sk-container-id-2 label.sk-toggleable__label-arrow:before {content: \"▸\";float: left;margin-right: 0.25em;color: #696969;}#sk-container-id-2 label.sk-toggleable__label-arrow:hover:before {color: black;}#sk-container-id-2 div.sk-estimator:hover label.sk-toggleable__label-arrow:before {color: black;}#sk-container-id-2 div.sk-toggleable__content {max-height: 0;max-width: 0;overflow: hidden;text-align: left;background-color: #f0f8ff;}#sk-container-id-2 div.sk-toggleable__content pre {margin: 0.2em;color: black;border-radius: 0.25em;background-color: #f0f8ff;}#sk-container-id-2 input.sk-toggleable__control:checked~div.sk-toggleable__content {max-height: 200px;max-width: 100%;overflow: auto;}#sk-container-id-2 input.sk-toggleable__control:checked~label.sk-toggleable__label-arrow:before {content: \"▾\";}#sk-container-id-2 div.sk-estimator input.sk-toggleable__control:checked~label.sk-toggleable__label {background-color: #d4ebff;}#sk-container-id-2 div.sk-label input.sk-toggleable__control:checked~label.sk-toggleable__label {background-color: #d4ebff;}#sk-container-id-2 input.sk-hidden--visually {border: 0;clip: rect(1px 1px 1px 1px);clip: rect(1px, 1px, 1px, 1px);height: 1px;margin: -1px;overflow: hidden;padding: 0;position: absolute;width: 1px;}#sk-container-id-2 div.sk-estimator {font-family: monospace;background-color: #f0f8ff;border: 1px dotted black;border-radius: 0.25em;box-sizing: border-box;margin-bottom: 0.5em;}#sk-container-id-2 div.sk-estimator:hover {background-color: #d4ebff;}#sk-container-id-2 div.sk-parallel-item::after {content: \"\";width: 100%;border-bottom: 1px solid gray;flex-grow: 1;}#sk-container-id-2 div.sk-label:hover label.sk-toggleable__label {background-color: #d4ebff;}#sk-container-id-2 div.sk-serial::before {content: \"\";position: absolute;border-left: 1px solid gray;box-sizing: border-box;top: 0;bottom: 0;left: 50%;z-index: 0;}#sk-container-id-2 div.sk-serial {display: flex;flex-direction: column;align-items: center;background-color: white;padding-right: 0.2em;padding-left: 0.2em;position: relative;}#sk-container-id-2 div.sk-item {position: relative;z-index: 1;}#sk-container-id-2 div.sk-parallel {display: flex;align-items: stretch;justify-content: center;background-color: white;position: relative;}#sk-container-id-2 div.sk-item::before, #sk-container-id-2 div.sk-parallel-item::before {content: \"\";position: absolute;border-left: 1px solid gray;box-sizing: border-box;top: 0;bottom: 0;left: 50%;z-index: -1;}#sk-container-id-2 div.sk-parallel-item {display: flex;flex-direction: column;z-index: 1;position: relative;background-color: white;}#sk-container-id-2 div.sk-parallel-item:first-child::after {align-self: flex-end;width: 50%;}#sk-container-id-2 div.sk-parallel-item:last-child::after {align-self: flex-start;width: 50%;}#sk-container-id-2 div.sk-parallel-item:only-child::after {width: 0;}#sk-container-id-2 div.sk-dashed-wrapped {border: 1px dashed gray;margin: 0 0.4em 0.5em 0.4em;box-sizing: border-box;padding-bottom: 0.4em;background-color: white;}#sk-container-id-2 div.sk-label label {font-family: monospace;font-weight: bold;display: inline-block;line-height: 1.2em;}#sk-container-id-2 div.sk-label-container {text-align: center;}#sk-container-id-2 div.sk-container {/* jupyter's `normalize.less` sets `[hidden] { display: none; }` but bootstrap.min.css set `[hidden] { display: none !important; }` so we also need the `!important` here to be able to override the default hidden behavior on the sphinx rendered scikit-learn.org. See: https://github.com/scikit-learn/scikit-learn/issues/21755 */display: inline-block !important;position: relative;}#sk-container-id-2 div.sk-text-repr-fallback {display: none;}</style><div id=\"sk-container-id-2\" class=\"sk-top-container\"><div class=\"sk-text-repr-fallback\"><pre>LinearRegression()</pre><b>In a Jupyter environment, please rerun this cell to show the HTML representation or trust the notebook. <br />On GitHub, the HTML representation is unable to render, please try loading this page with nbviewer.org.</b></div><div class=\"sk-container\" hidden><div class=\"sk-item\"><div class=\"sk-estimator sk-toggleable\"><input class=\"sk-toggleable__control sk-hidden--visually\" id=\"sk-estimator-id-2\" type=\"checkbox\" checked><label for=\"sk-estimator-id-2\" class=\"sk-toggleable__label sk-toggleable__label-arrow\">LinearRegression</label><div class=\"sk-toggleable__content\"><pre>LinearRegression()</pre></div></div></div></div></div>"
      ],
      "text/plain": [
       "LinearRegression()"
      ]
     },
     "execution_count": 9,
     "metadata": {},
     "output_type": "execute_result"
    }
   ],
   "source": [
    "#Train-test split\n",
    "X_train, X_test, y_train, y_test = train_test_split(X, y, test_size=0.2, random_state=42)\n",
    "\n",
    "#Doğrusal regresyon modelini oluştur\n",
    "model = LinearRegression()\n",
    "model.fit(X_train, y_train)"
   ]
  },
  {
   "cell_type": "code",
   "execution_count": 10,
   "id": "d6a896dd-01ac-40a8-88a3-2e4e147da45f",
   "metadata": {},
   "outputs": [
    {
     "name": "stdout",
     "output_type": "stream",
     "text": [
      "Tahmin Edilen Median Ev Değeri: [85899772.88661744]\n"
     ]
    }
   ],
   "source": [
    "# 7. Tahmin yapılacak değerler için veri oluştur\n",
    "new_data = {\"housing_median_age\": [30],\n",
    "            \"total_rooms\": [1500],\n",
    "            \"total_bedrooms\": [250],\n",
    "            \"population\": [350],\n",
    "            \"households\": [400],\n",
    "            \"median_income\": [1800]}\n",
    "new_data_df = pd.DataFrame(new_data)\n",
    "\n",
    "# 8. Tahmin yap\n",
    "predicted_value = model.predict(new_data_df)\n",
    "print(\"Tahmin Edilen Median Ev Değeri:\", predicted_value)"
   ]
  },
  {
   "cell_type": "code",
   "execution_count": 11,
   "id": "15dc0648-2dcb-4740-807e-c5188e2c0a4d",
   "metadata": {},
   "outputs": [
    {
     "name": "stdout",
     "output_type": "stream",
     "text": [
      "Eğitim seti doğruluk skoru: 0.5655484565370035\n",
      "Test seti doğruluk skoru: 0.5710755317440979\n"
     ]
    }
   ],
   "source": [
    "# 9. Modelin doğruluk oranlarını yazdır\n",
    "train_accuracy = model.score(X_train, y_train)\n",
    "test_accuracy = model.score(X_test, y_test)\n",
    "\n",
    "print(\"Eğitim seti doğruluk skoru:\", train_accuracy)\n",
    "print(\"Test seti doğruluk skoru:\", test_accuracy)"
   ]
  },
  {
   "cell_type": "code",
   "execution_count": 12,
   "id": "0c5e170a-c8c3-4a83-8f95-645cd5087990",
   "metadata": {},
   "outputs": [
    {
     "name": "stdout",
     "output_type": "stream",
     "text": [
      "\n",
      "SST (Toplam Kareler Toplamı): 216370014961977.34\n",
      "SSR (Regresyon Kareler Toplamı): 122367728002634.16\n",
      "SSE (Artıkların Kareler Toplamı): 94002286959342.7\n",
      "R2 skoru: 0.5655484565370013\n"
     ]
    }
   ],
   "source": [
    "# 10. Modelin değerlendirilmesi\n",
    "y_pred_train = model.predict(X_train)\n",
    "y_pred_test = model.predict(X_test)\n",
    "\n",
    "# SST, SSR ve SSE hesaplama\n",
    "mean_y_train = np.mean(y_train)\n",
    "sst = np.sum((y_train - mean_y_train) ** 2)\n",
    "ssr = np.sum((y_pred_train - mean_y_train) ** 2)\n",
    "sse = np.sum((y_train - y_pred_train) ** 2)\n",
    "\n",
    "# R2 skorunu hesaplama\n",
    "r2_train = ssr / sst\n",
    "\n",
    "print(\"\\nSST (Toplam Kareler Toplamı):\", sst)\n",
    "print(\"SSR (Regresyon Kareler Toplamı):\", ssr)\n",
    "print(\"SSE (Artıkların Kareler Toplamı):\", sse)\n",
    "print(\"R2 skoru:\", r2_train)\n"
   ]
  },
  {
   "cell_type": "code",
   "execution_count": null,
   "id": "4b284a60-8462-49a0-928d-ab85e26f26b0",
   "metadata": {},
   "outputs": [],
   "source": []
  }
 ],
 "metadata": {
  "kernelspec": {
   "display_name": "Python 3 (ipykernel)",
   "language": "python",
   "name": "python3"
  },
  "language_info": {
   "codemirror_mode": {
    "name": "ipython",
    "version": 3
   },
   "file_extension": ".py",
   "mimetype": "text/x-python",
   "name": "python",
   "nbconvert_exporter": "python",
   "pygments_lexer": "ipython3",
   "version": "3.11.5"
  }
 },
 "nbformat": 4,
 "nbformat_minor": 5
}
