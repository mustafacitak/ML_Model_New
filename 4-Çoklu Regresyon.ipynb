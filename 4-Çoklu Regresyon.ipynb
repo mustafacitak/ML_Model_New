{
 "cells": [
  {
   "cell_type": "code",
   "execution_count": 2,
   "id": "6d850ed1",
   "metadata": {},
   "outputs": [
    {
     "name": "stdout",
     "output_type": "stream",
     "text": [
      "Prediction for house price: [942897.69820972]\n",
      "MSE: 3508406098.977483\n",
      "R2 Score: 0.9595183911656444\n"
     ]
    }
   ],
   "source": [
    "import pandas as pd\n",
    "import numpy as np\n",
    "from sklearn.model_selection import train_test_split\n",
    "from sklearn.linear_model import LinearRegression\n",
    "from sklearn.metrics import mean_squared_error, r2_score\n",
    "from sklearn.metrics import confusion_matrix\n",
    "\n",
    "data = {'house_size': [100, 120, 80, 150, 90, 110, 70, 130, 140, 160, 180, 100, 120, 80, 150, 90, 110, 70, 130, 140, 160, 180, 120, 100, 140, 160, 180, 110],\n",
    "        'number_of_rooms': [2, 3, 2, 4, 2, 3, 1, 4, 3, 4, 5, 3, 2, 1, 5, 3, 2, 2, 4, 2, 5, 4, 4, 2, 3, 4, 5, 3],\n",
    "        'location': ['Merkez', 'Merkez', 'Banliyö', 'Merkez', 'Banliyö', 'Banliyö', 'Merkez', 'Banliyö', 'Merkez', 'Banliyö', 'Merkez', 'Banliyö', 'Merkez', 'Banliyö', 'Merkez', 'Banliyö', 'Merkez', 'Banliyö', 'Merkez', 'Banliyö', 'Merkez', 'Banliyö', 'Merkez', 'Banliyö', 'Merkez', 'Banliyö', 'Merkez', 'Banliyö'],\n",
    "        'house_price': [500000, 700000, 350000, 1000000, 400000, 600000, 300000, 800000, 900000, 1100000, 1300000, 550000, 650000, 325000, 1200000, 450000, 625000, 375000, 850000, 950000, 1400000, 1250000, 800000, 425000, 925000, 1150000, 1350000, 675000]}\n",
    "\n",
    "df = pd.DataFrame(data)\n",
    "\n",
    "X = df[['house_size', 'number_of_rooms', 'location']]\n",
    "y = df['house_price']\n",
    "\n",
    "X = pd.get_dummies(X, columns=['location'], drop_first=True)\n",
    "\n",
    "X_train, X_test, y_train, y_test = train_test_split(X, y, test_size=0.3, random_state=42)\n",
    "\n",
    "model = LinearRegression()\n",
    "model.fit(X_train, y_train)\n",
    "\n",
    "y_pred = model.predict(X_test)\n",
    "\n",
    "new_data = {'house_size': [150], 'number_of_rooms': [2], 'location': ['Merkez']}\n",
    "new_df = pd.DataFrame(new_data)\n",
    "\n",
    "new_df = pd.get_dummies(new_df, columns=['location'], drop_first=True)\n",
    "\n",
    "missing_columns = set(X_train.columns) - set(new_df.columns)\n",
    "\n",
    "for column in missing_columns:\n",
    "    new_df[column] = 0\n",
    "\n",
    "prediction = model.predict(new_df)\n",
    "\n",
    "print(f'Prediction for house price: {prediction}')\n",
    "\n",
    "mse = mean_squared_error(y_test, y_pred)\n",
    "r2 = r2_score(y_test, y_pred)\n",
    "\n",
    "print(f'MSE: {mse}')\n",
    "print(f'R2 Score: {r2}')\n"
   ]
  }
 ],
 "metadata": {
  "kernelspec": {
   "display_name": "Python 3 (ipykernel)",
   "language": "python",
   "name": "python3"
  },
  "language_info": {
   "codemirror_mode": {
    "name": "ipython",
    "version": 3
   },
   "file_extension": ".py",
   "mimetype": "text/x-python",
   "name": "python",
   "nbconvert_exporter": "python",
   "pygments_lexer": "ipython3",
   "version": "3.11.5"
  }
 },
 "nbformat": 4,
 "nbformat_minor": 5
}
