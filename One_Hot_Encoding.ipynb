{
 "cells": [
  {
   "cell_type": "code",
   "execution_count": 2,
   "id": "1a568f58",
   "metadata": {},
   "outputs": [],
   "source": [
    "#pandas.get_dummies() fonksiyonunu kullanarak one-hot encoding uygulayın."
   ]
  },
  {
   "cell_type": "code",
   "execution_count": 3,
   "id": "eba207b7",
   "metadata": {},
   "outputs": [
    {
     "name": "stdout",
     "output_type": "stream",
     "text": [
      "   Yaş  Cinsiyet_Erkek  Cinsiyet_Kadın\n",
      "0   30            True           False\n",
      "1   25           False            True\n",
      "2   40            True           False\n",
      "3   35           False            True\n"
     ]
    }
   ],
   "source": [
    "import pandas as pd\n",
    "\n",
    "# Veri setini oluştur\n",
    "data = {\n",
    "    \"Cinsiyet\": [\"Erkek\", \"Kadın\", \"Erkek\", \"Kadın\"],\n",
    "    \"Yaş\": [30, 25, 40, 35]\n",
    "}\n",
    "df = pd.DataFrame(data)\n",
    "\n",
    "# One-hot encoding uygula\n",
    "encoded_df = pd.get_dummies(df, columns=[\"Cinsiyet\"])\n",
    "\n",
    "# Sonucu yazdır\n",
    "print(encoded_df)\n",
    "\n"
   ]
  },
  {
   "cell_type": "code",
   "execution_count": null,
   "id": "e1bf82f3",
   "metadata": {},
   "outputs": [],
   "source": []
  }
 ],
 "metadata": {
  "kernelspec": {
   "display_name": "Python 3 (ipykernel)",
   "language": "python",
   "name": "python3"
  },
  "language_info": {
   "codemirror_mode": {
    "name": "ipython",
    "version": 3
   },
   "file_extension": ".py",
   "mimetype": "text/x-python",
   "name": "python",
   "nbconvert_exporter": "python",
   "pygments_lexer": "ipython3",
   "version": "3.11.5"
  }
 },
 "nbformat": 4,
 "nbformat_minor": 5
}
