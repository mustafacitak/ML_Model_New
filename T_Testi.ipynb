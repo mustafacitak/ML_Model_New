{
 "cells": [
  {
   "cell_type": "code",
   "execution_count": null,
   "id": "c4d42922",
   "metadata": {},
   "outputs": [],
   "source": [
    "Modelin Açıklama Gücü "
   ]
  },
  {
   "cell_type": "code",
   "execution_count": 1,
   "id": "b5dd31bc",
   "metadata": {},
   "outputs": [
    {
     "name": "stdout",
     "output_type": "stream",
     "text": [
      "Eğitim seti R^2 skoru: 0.7597598292034167\n",
      "Test seti R^2 skoru: 0.6521157503858558\n"
     ]
    },
    {
     "data": {
      "image/png": "[encoded data removed]",
      "text/plain": [
       "<Figure size 640x480 with 1 Axes>"
      ]
     },
     "metadata": {},
     "output_type": "display_data"
    }
   ],
   "source": [
    "# Gerekli kütüphaneleri içe aktarın\n",
    "import numpy as np\n",
    "import matplotlib.pyplot as plt\n",
    "from sklearn.model_selection import train_test_split\n",
    "from sklearn.linear_model import LinearRegression\n",
    "from sklearn.metrics import mean_squared_error, r2_score\n",
    "\n",
    "# Veri setini oluşturun\n",
    "np.random.seed(0)\n",
    "X = 2 * np.random.rand(100, 1)\n",
    "y = 3 * X + np.random.randn(100, 1)\n",
    "\n",
    "# Veri setini eğitim ve test setlerine ayırın\n",
    "X_train, X_test, y_train, y_test = train_test_split(X, y, test_size=0.2, random_state=42)\n",
    "\n",
    "# Doğrusal regresyon modelini oluşturun ve eğitin\n",
    "model = LinearRegression()\n",
    "model.fit(X_train, y_train)\n",
    "\n",
    "# Eğitim seti üzerinde tahmin yapın\n",
    "y_train_pred = model.predict(X_train)\n",
    "\n",
    "# Test seti üzerinde tahmin yapın\n",
    "y_test_pred = model.predict(X_test)\n",
    "\n",
    "# Modelin performansını değerlendirin\n",
    "print('Eğitim seti R^2 skoru:', r2_score(y_train, y_train_pred))\n",
    "print('Test seti R^2 skoru:', r2_score(y_test, y_test_pred))\n",
    "\n",
    "# Modelin genellemesini görselleştirin\n",
    "plt.scatter(X_test, y_test, color='black')\n",
    "plt.plot(X_test, y_test_pred, color='blue', linewidth=3)\n",
    "plt.xlabel('Bağımsız Değişken')\n",
    "plt.ylabel('Bağımlı Değişken')\n",
    "plt.title('Doğrusal Regresyon Modeli Genelleme')\n",
    "plt.show()\n"
   ]
  },
  {
   "cell_type": "code",
   "execution_count": null,
   "id": "08a4cd4d",
   "metadata": {},
   "outputs": [],
   "source": [
    "# T Testi"
   ]
  },
  {
   "cell_type": "code",
   "execution_count": 2,
   "id": "463c3708",
   "metadata": {},
   "outputs": [
    {
     "name": "stdout",
     "output_type": "stream",
     "text": [
      "                            OLS Regression Results                            \n",
      "==============================================================================\n",
      "Dep. Variable:                      y   R-squared:                       0.239\n",
      "Model:                            OLS   Adj. R-squared:                  0.231\n",
      "Method:                 Least Squares   F-statistic:                     30.79\n",
      "Date:                Sun, 10 Mar 2024   Prob (F-statistic):           2.45e-07\n",
      "Time:                        15:17:46   Log-Likelihood:                -141.51\n",
      "No. Observations:                 100   AIC:                             287.0\n",
      "Df Residuals:                      98   BIC:                             292.2\n",
      "Df Model:                           1                                         \n",
      "Covariance Type:            nonrobust                                         \n",
      "==============================================================================\n",
      "                 coef    std err          t      P>|t|      [0.025      0.975]\n",
      "------------------------------------------------------------------------------\n",
      "const          0.2222      0.193      1.149      0.253      -0.161       0.606\n",
      "x1             1.9369      0.349      5.549      0.000       1.244       2.630\n",
      "==============================================================================\n",
      "Omnibus:                       11.746   Durbin-Watson:                   2.083\n",
      "Prob(Omnibus):                  0.003   Jarque-Bera (JB):                4.097\n",
      "Skew:                           0.138   Prob(JB):                        0.129\n",
      "Kurtosis:                       2.047   Cond. No.                         4.30\n",
      "==============================================================================\n",
      "\n",
      "Notes:\n",
      "[1] Standard Errors assume that the covariance matrix of the errors is correctly specified.\n",
      "T Değeri: 5.549109761872248\n",
      "P Değeri: 2.4461286098878816e-07\n"
     ]
    }
   ],
   "source": [
    "import numpy as np\n",
    "import pandas as pd\n",
    "import statsmodels.api as sm\n",
    "\n",
    "# Örnek veri oluşturma\n",
    "np.random.seed(0)\n",
    "X = np.random.rand(100, 1)  # Bağımsız değişken\n",
    "y = 2 * X + np.random.randn(100, 1)  # Bağımlı değişken\n",
    "\n",
    "# Doğrusal regresyon modelini oluşturma\n",
    "X_with_const = sm.add_constant(X)  # Sabit terimi eklemek\n",
    "model = sm.OLS(y, X_with_const).fit()  # Doğrusal regresyon modelini tahmin etme\n",
    "print(model.summary())  # Model özetini yazdırma\n",
    "\n",
    "# T-testi yapma\n",
    "t_value = model.tvalues[1]  # İkinci katsayının T değerini alır\n",
    "p_value = model.pvalues[1]  # İkinci katsayının p değerini alır\n",
    "\n",
    "print(f\"T Değeri: {t_value}\")\n",
    "print(f\"P Değeri: {p_value}\")\n"
   ]
  },
  {
   "cell_type": "code",
   "execution_count": null,
   "id": "2c4f9514",
   "metadata": {},
   "outputs": [],
   "source": [
    "\"\"\"\"\n",
    "Doğrusal regresyon modelinde, bir katsayının anlamlılığını değerlendirmek için T-testi kullanılabilir. \n",
    "\n",
    "Özellikle, bir bağımsız değişkenin etkisi üzerindeki katsayının istatistiksel olarak anlamlı olup olmadığını \n",
    "belirlemek için kullanılır. Bu test, katsayının sıfırdan farklı olup olmadığını değerlendirir.\n",
    "\n",
    "T-testi, genellikle katsayının tahmini standart hata ve serbestlik derecesine dayalı bir T istatistiği\n",
    "hesaplanarak gerçekleştirilir. Bu istatistik, katsayının tahmini değeri ile sıfır arasındaki farkın standart \n",
    "hata ile normalize edilmiş halidir. Elde edilen T değeri, kritik T değerleri veya p-değerleri ile karşılaştırılarak\n",
    "katsayının istatistiksel olarak anlamlı olup olmadığı belirlenir.\n",
    "\n",
    "Doğrusal regresyon modelinde, bir bağımsız değişkenin katsayısının T-testi şu adımlarla gerçekleştirilir:\n",
    "\n",
    "1. Doğrusal regresyon modeli tahmin edilir.\n",
    "2. İlgili bağımsız değişkenin katsayısı ve tahmini standart hatası elde edilir.\n",
    "3. Katsayının T değeri hesaplanır.\n",
    "4. Elde edilen T değeri, serbestlik derecesi ve istenilen anlamlılık düzeyi (genellikle %95 veya %99) kullanılarak kritik T değeri ile karşılaştırılır.\n",
    "5. Hesaplanan T değeri, kritik T değerinden büyükse veya p-değeri istenilen anlamlılık düzeyinden küçükse, katsayı istatistiksel olarak anlamlı kabul edilir.\n",
    "\n",
    "Bu şekilde, T-testi kullanılarak doğrusal regresyon modelindeki katsayıların anlamlılığı değerlendirilebilir.\n",
    "\n",
    "\n",
    "\"\"\""
   ]
  },
  {
   "cell_type": "code",
   "execution_count": 4,
   "id": "1adbec84",
   "metadata": {},
   "outputs": [],
   "source": [
    "#Güven Aralıkları ve Önsav Sınamaları\n",
    "#Anakütle Regresyon Eğiminin Sınanması"
   ]
  },
  {
   "cell_type": "code",
   "execution_count": 3,
   "id": "d2d9e5d9",
   "metadata": {},
   "outputs": [
    {
     "name": "stdout",
     "output_type": "stream",
     "text": [
      "Eğim Katsayısı: 1.9369350214020389\n",
      "T-istatistiği: 5.549109761872248\n",
      "p-değeri: 2.4461286098878816e-07\n",
      "Hipotez reddedildi: Eğim katsayısı istatistiksel olarak anlamlıdır.\n"
     ]
    }
   ],
   "source": [
    "import numpy as np\n",
    "from scipy import stats\n",
    "import statsmodels.api as sm\n",
    "\n",
    "# Örnek veri oluşturma\n",
    "np.random.seed(0)\n",
    "X = np.random.rand(100, 1)  # Bağımsız değişken\n",
    "y = 2 * X.squeeze() + np.random.randn(100)  # Bağımlı değişken\n",
    "\n",
    "# Modeli oluşturma\n",
    "X_with_intercept = sm.add_constant(X)  # Sabit terimi ekleyerek\n",
    "model = sm.OLS(y, X_with_intercept)\n",
    "results = model.fit()\n",
    "\n",
    "# Regresyon eğim katsayısını ve p-değerini alarak t-testi yapma\n",
    "slope, intercept = results.params[1], results.params[0]\n",
    "t_statistic, p_value = results.tvalues[1], results.pvalues[1]\n",
    "\n",
    "# Sonuçları yazdırma\n",
    "print(\"Eğim Katsayısı:\", slope)\n",
    "print(\"T-istatistiği:\", t_statistic)\n",
    "print(\"p-değeri:\", p_value)\n",
    "\n",
    "# H0 hipotezi: Eğim katsayısı sıfırdır\n",
    "alpha = 0.05  # Anlamlılık düzeyi\n",
    "if p_value < alpha:\n",
    "    print(\"Hipotez reddedildi: Eğim katsayısı istatistiksel olarak anlamlıdır.\")\n",
    "else:\n",
    "    print(\"Hipotez kabul edildi: Eğim katsayısı istatistiksel olarak anlamlı değildir.\")\n"
   ]
  },
  {
   "cell_type": "code",
   "execution_count": 5,
   "id": "6fedc414",
   "metadata": {},
   "outputs": [
    {
     "name": "stdout",
     "output_type": "stream",
     "text": [
      "SST (Total Sum of Squares): 20.833333333333336\n",
      "SSR (Sum of Squares due to Regression): 40.833333333333336\n",
      "SSE (Sum of Squares due to Error): 4\n"
     ]
    }
   ],
   "source": [
    "import numpy as np\n",
    "\n",
    "# Örnek veri seti\n",
    "y = np.array([2, 4, 5, 4, 6, 8])\n",
    "y_hat = np.array([1, 3, 5, 4, 7, 9])\n",
    "y_mean = np.mean(y)\n",
    "\n",
    "# SST (Total Sum of Squares)\n",
    "SST = np.sum((y - y_mean)**2)\n",
    "\n",
    "# SSR (Sum of Squares due to Regression)\n",
    "SSR = np.sum((y_hat - y_mean)**2)\n",
    "\n",
    "# SSE (Sum of Squares due to Error)\n",
    "SSE = np.sum((y - y_hat)**2)\n",
    "\n",
    "print(\"SST (Total Sum of Squares):\", SST)\n",
    "print(\"SSR (Sum of Squares due to Regression):\", SSR)\n",
    "print(\"SSE (Sum of Squares due to Error):\", SSE)\n"
   ]
  }
 ],
 "metadata": {
  "kernelspec": {
   "display_name": "Python 3 (ipykernel)",
   "language": "python",
   "name": "python3"
  },
  "language_info": {
   "codemirror_mode": {
    "name": "ipython",
    "version": 3
   },
   "file_extension": ".py",
   "mimetype": "text/x-python",
   "name": "python",
   "nbconvert_exporter": "python",
   "pygments_lexer": "ipython3",
   "version": "3.11.5"
  }
 },
 "nbformat": 4,
 "nbformat_minor": 5
}
